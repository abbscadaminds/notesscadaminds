{
 "cells": [
  {
   "cell_type": "markdown",
   "metadata": {},
   "source": [
    "# An Overview of External Monitoring tools\n",
    "\n",
    "### Brought to you by Anders and Octavian"
   ]
  },
  {
   "cell_type": "markdown",
   "metadata": {},
   "source": [
    "## What is a External Monitoring Tool?"
   ]
  },
  {
   "cell_type": "markdown",
   "metadata": {},
   "source": [
    "### What is external monitoring?\n",
    "Reports from internal monitoring are not normally published externally. They are however available for review by external monitors. External monitoring is carried out by parties contracted at arms length from the project through third parties government, or lenders and are always viewed as independent."
   ]
  },
  {
   "cell_type": "markdown",
   "metadata": {},
   "source": [
    "### When to use a external monitoring tool\n",
    "- Not needed for cloud since they should come with a tool.\n",
    "- When log files are not enough"
   ]
  },
  {
   "cell_type": "markdown",
   "metadata": {},
   "source": [
    "### Experince?\n",
    " - SolarWinds\n",
    " - Prometheus\n",
    " - [Humio](https://www.humio.com/)\n",
    " - Graphite\n",
    " - Application insights (Azure cloud monitoring)\n",
    " - InfluxDB (Tick Stack = Telegraf, InfluxDB, Chronograf, Kapacitor)"
   ]
  },
  {
   "cell_type": "markdown",
   "metadata": {},
   "source": [
    "## Tools we will give an overview of\n",
    "There is too many tools to give a complete list so we have composed a list of those that we knew about or that seems intersting from our point of view."
   ]
  },
  {
   "cell_type": "code",
   "execution_count": null,
   "metadata": {},
   "outputs": [
    {
     "name": "stdout",
     "output_type": "stream",
     "text": [
      "100\n"
     ]
    }
   ],
   "source": [
    "x = 10\n",
    "print(x *10)"
   ]
  },
  {
   "cell_type": "markdown",
   "metadata": {},
   "source": [
    "- Prometheus (Open Source)\n",
    "- SolarWinds (Used in Vattenfall and Orsted)\n",
    "- Humio (Developed in Aarhus)\n",
    "- [Open Metrics](https://openmetrics.io/) (Not a tool but a standard)"
   ]
  },
  {
   "cell_type": "markdown",
   "metadata": {},
   "source": [
    "## Humio"
   ]
  },
  {
   "cell_type": "markdown",
   "metadata": {},
   "source": [
    "### Humio is quick and easy\n",
    "- Price is unknown a bit expensive if you have more than 2GB/day"
   ]
  },
  {
   "cell_type": "markdown",
   "metadata": {},
   "source": [
    "## Prometheus\n",
    "\n",
    "Is a pull-based system that uses local configuration to describe the endpoints to collect from and the interval desired for collection. Each endpoint has a client collecting the data and updating that representation upon each request (or however the client is configured). This data is collected and saved in a highly efficient storage engine on local disk. The storage system uses an append-only file per metric. This storage isn't lossy, which means the fidelity of data from a year ago is as high as the data you are collecting today. However, you may not want to keep that much data locally. Fortunately, there is an option for remote storage for long-term retention and analysis.\n"
   ]
  },
  {
   "cell_type": "markdown",
   "metadata": {},
   "source": [
    "## InfluxDb\n",
    "Locked into the DB"
   ]
  },
  {
   "cell_type": "markdown",
   "metadata": {},
   "source": [
    "## SolarWinds"
   ]
  },
  {
   "cell_type": "markdown",
   "metadata": {},
   "source": [
    "## Open Metrics\n",
    "An effort to create an open standard for transmitting metrics at scale, with support for both text representation and Protocol Buffers.\n"
   ]
  },
  {
   "cell_type": "markdown",
   "metadata": {},
   "source": [
    "## Overview in a table\n",
    "Here should be an awesome overview table of the tools that we looked at"
   ]
  },
  {
   "cell_type": "markdown",
   "metadata": {},
   "source": [
    "## Conclusion and Discussion\n",
    "- Hope you liked it.\n",
    "- This is a topic where there is no clear decision and it will be very depend on the specific project.\n",
    "- Cloud implementation properly gonna use Application insight\n",
    "- Non cloud depends on the setup"
   ]
  },
  {
   "cell_type": "markdown",
   "metadata": {},
   "source": [
    "![European or African](https://vignette.wikia.nocookie.net/montypython/images/c/c1/Bridge_of_Death_monty_python_and_the_holy_grail_591679_800_4411271399897.jpg/revision/latest?cb=20130716234623)"
   ]
  }
 ],
 "metadata": {
  "kernelspec": {
   "display_name": "Python 3",
   "language": "python",
   "name": "python3"
  }
 },
 "nbformat": 4,
 "nbformat_minor": 2
}
